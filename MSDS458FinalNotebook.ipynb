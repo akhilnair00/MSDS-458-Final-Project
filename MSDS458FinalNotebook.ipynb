{
 "cells": [
  {
   "cell_type": "code",
   "execution_count": 19,
   "metadata": {},
   "outputs": [],
   "source": [
    "import numpy as np\n",
    "import pandas as pd\n",
    "import matplotlib.pyplot as plt\n",
    "import seaborn as sea\n",
    "import os\n",
    "from tqdm import tqdm\n",
    "import re\n",
    "import tensorflow as tf\n",
    "from tensorflow import keras\n",
    "from tensorflow.keras.preprocessing.text import Tokenizer\n",
    "import torch\n",
    "import nltk\n",
    "from nltk.corpus import stopwords\n",
    "from nltk.tokenize import word_tokenize\n",
    "from collections import defaultdict\n",
    "import pandas as pd\n",
    "import re"
   ]
  },
  {
   "cell_type": "code",
   "execution_count": 37,
   "metadata": {},
   "outputs": [
    {
     "name": "stderr",
     "output_type": "stream",
     "text": [
      "[nltk_data] Downloading package punkt to\n",
      "[nltk_data]     C:\\Users\\akhil\\AppData\\Roaming\\nltk_data...\n",
      "[nltk_data]   Package punkt is already up-to-date!\n",
      "[nltk_data] Downloading package stopwords to\n",
      "[nltk_data]     C:\\Users\\akhil\\AppData\\Roaming\\nltk_data...\n",
      "[nltk_data]   Package stopwords is already up-to-date!\n",
      "[nltk_data] Downloading package averaged_perceptron_tagger to\n",
      "[nltk_data]     C:\\Users\\akhil\\AppData\\Roaming\\nltk_data...\n",
      "[nltk_data]   Unzipping taggers\\averaged_perceptron_tagger.zip.\n"
     ]
    },
    {
     "data": {
      "text/plain": [
       "True"
      ]
     },
     "execution_count": 37,
     "metadata": {},
     "output_type": "execute_result"
    }
   ],
   "source": [
    "nltk.download('punkt')\n",
    "nltk.download('stopwords')\n",
    "nltk.download('averaged_perceptron_tagger')"
   ]
  },
  {
   "cell_type": "code",
   "execution_count": 46,
   "metadata": {},
   "outputs": [],
   "source": [
    "data = 'C:/Users/akhil/OneDrive/Documents/School/Summer 2024/MSDS 458/Final Project/Symptom2Disease.csv'\n",
    "df = pd.read_csv(data)"
   ]
  },
  {
   "cell_type": "code",
   "execution_count": 47,
   "metadata": {},
   "outputs": [],
   "source": [
    "stop_words = set(stopwords.words('english'))"
   ]
  },
  {
   "cell_type": "code",
   "execution_count": 48,
   "metadata": {},
   "outputs": [],
   "source": [
    "def extract_symptoms_pos(text):\n",
    "    text = text.lower()\n",
    "    text = re.sub(r'[^a-zA-Z\\s]', '', text)\n",
    "    words = word_tokenize(text)\n",
    "    filtered_words = [word for word in words if word not in stop_words]\n",
    "    pos_tags = nltk.pos_tag(filtered_words)\n",
    "    symptoms = [word for word, pos in pos_tags if pos in ('NN', 'NNS', 'JJ', 'JJR', 'JJS')]\n",
    "    return symptoms"
   ]
  },
  {
   "cell_type": "code",
   "execution_count": 49,
   "metadata": {},
   "outputs": [],
   "source": [
    "symptom_disease_map = defaultdict(set)"
   ]
  },
  {
   "cell_type": "code",
   "execution_count": 51,
   "metadata": {},
   "outputs": [],
   "source": [
    "for index, row in df.iterrows():\n",
    "    symptoms = extract_symptoms_pos(row['text'])\n",
    "    for symptom in symptoms:\n",
    "        symptom_disease_map[symptom].add(row['label'])"
   ]
  },
  {
   "cell_type": "code",
   "execution_count": 52,
   "metadata": {},
   "outputs": [],
   "source": [
    "symptom_disease_map = {k: list(v) for k, v in symptom_disease_map.items()}"
   ]
  },
  {
   "cell_type": "code",
   "execution_count": 53,
   "metadata": {},
   "outputs": [
    {
     "name": "stdout",
     "output_type": "stream",
     "text": [
      "Symptom: skin, Diseases: ['Impetigo', 'Jaundice', 'Psoriasis', 'Dengue', 'Varicose Veins', 'Acne', 'allergy', 'drug reaction', 'Chicken pox', 'Fungal infection', 'diabetes']\n",
      "Symptom: rash, Diseases: ['Impetigo', 'Jaundice', 'Psoriasis', 'Dengue', 'Varicose Veins', 'Acne', 'Chicken pox', 'Fungal infection']\n",
      "Symptom: arms, Diseases: ['Impetigo', 'Psoriasis', 'Dengue', 'Chicken pox', 'Fungal infection', 'Cervical spondylosis']\n",
      "Symptom: torso, Diseases: ['allergy', 'Psoriasis']\n",
      "Symptom: past, Diseases: ['Impetigo', 'peptic ulcer disease', 'Bronchial Asthma', 'Psoriasis', 'Varicose Veins', 'Chicken pox']\n",
      "Symptom: weeks, Diseases: ['Varicose Veins', 'Psoriasis']\n",
      "Symptom: itchy, Diseases: ['Impetigo', 'Jaundice', 'Psoriasis', 'Dengue', 'Varicose Veins', 'Acne', 'allergy', 'Dimorphic Hemorrhoids', 'drug reaction', 'Chicken pox', 'Fungal infection', 'Common Cold']\n",
      "Symptom: dry, Diseases: ['Impetigo', 'Bronchial Asthma', 'Psoriasis', 'Varicose Veins', 'allergy', 'drug reaction', 'Cervical spondylosis', 'diabetes']\n",
      "Symptom: scaly, Diseases: ['Psoriasis']\n",
      "Symptom: patches, Diseases: ['Fungal infection', 'Dengue', 'Psoriasis', 'Chicken pox']\n",
      "Symptom: knees, Diseases: ['Psoriasis']\n",
      "Symptom: scalp, Diseases: ['Psoriasis', 'drug reaction']\n",
      "Symptom: sensation, Diseases: ['Impetigo', 'urinary tract infection', 'peptic ulcer disease', 'Psoriasis', 'Dengue', 'allergy', 'gastroesophageal reflux disease', 'Common Cold', 'Cervical spondylosis', 'diabetes']\n",
      "Symptom: joint, Diseases: ['Dengue', 'Psoriasis', 'drug reaction']\n",
      "Symptom: pain, Diseases: ['Impetigo', 'Jaundice', 'Malaria', 'urinary tract infection', 'peptic ulcer disease', 'Pneumonia', 'Hypertension', 'Typhoid', 'Psoriasis', 'Dengue', 'Varicose Veins', 'allergy', 'Dimorphic Hemorrhoids', 'gastroesophageal reflux disease', 'Chicken pox', 'drug reaction', 'Common Cold', 'Cervical spondylosis']\n",
      "Symptom: fingers, Diseases: ['Psoriasis', 'drug reaction']\n",
      "Symptom: achy, Diseases: ['Psoriasis']\n",
      "Symptom: worse, Diseases: ['urinary tract infection', 'peptic ulcer disease', 'Hypertension', 'Typhoid', 'Psoriasis', 'Dengue', 'Varicose Veins', 'gastroesophageal reflux disease', 'drug reaction', 'Fungal infection', 'diabetes']\n",
      "Symptom: move, Diseases: ['Arthritis', 'Common Cold', 'Psoriasis']\n",
      "Symptom: joints, Diseases: ['Dengue', 'Arthritis', 'Psoriasis']\n",
      "Symptom: silver, Diseases: ['Psoriasis']\n",
      "Symptom: lower, Diseases: ['urinary tract infection', 'Psoriasis']\n",
      "Symptom: dusting, Diseases: ['Psoriasis']\n",
      "Symptom: small, Diseases: ['Impetigo', 'Psoriasis', 'Dengue', 'Varicose Veins', 'gastroesophageal reflux disease', 'Chicken pox', 'Fungal infection']\n",
      "Symptom: scales, Diseases: ['Psoriasis']\n",
      "Symptom: nails, Diseases: ['Psoriasis']\n",
      "Symptom: dents, Diseases: ['Psoriasis']\n",
      "Symptom: pits, Diseases: ['Psoriasis']\n",
      "Symptom: inflammatory, Diseases: ['Psoriasis']\n",
      "Symptom: tender, Diseases: ['Impetigo', 'Psoriasis']\n",
      "Symptom: touch, Diseases: ['Impetigo', 'Dengue', 'Psoriasis', 'Chicken pox']\n",
      "Symptom: minor, Diseases: ['Impetigo', 'Psoriasis']\n",
      "Symptom: rashes, Diseases: ['Impetigo', 'Psoriasis', 'Dengue', 'drug reaction', 'Chicken pox', 'Fungal infection', 'diabetes']\n",
      "Symptom: palms, Diseases: ['Psoriasis']\n",
      "Symptom: soles, Diseases: ['Psoriasis']\n",
      "Symptom: deep, Diseases: ['Psoriasis']\n",
      "Symptom: cracks, Diseases: ['Psoriasis']\n",
      "Symptom: painful, Diseases: ['Impetigo', 'Arthritis', 'Migraine', 'Malaria', 'peptic ulcer disease', 'Typhoid', 'Psoriasis', 'Varicose Veins', 'allergy', 'Dimorphic Hemorrhoids', 'gastroesophageal reflux disease', 'Fungal infection', 'Common Cold', 'diabetes']\n",
      "Symptom: mouth, Diseases: ['Impetigo', 'peptic ulcer disease', 'Bronchial Asthma', 'Psoriasis', 'gastroesophageal reflux disease', 'allergy', 'drug reaction', 'diabetes']\n",
      "Symptom: nose, Diseases: ['Impetigo', 'Bronchial Asthma', 'Psoriasis', 'allergy', 'Common Cold']\n",
      "Symptom: eyes, Diseases: ['Psoriasis', 'Dengue', 'allergy', 'Chicken pox', 'Common Cold']\n",
      "Symptom: inflamed, Diseases: ['Impetigo', 'Psoriasis', 'Varicose Veins', 'allergy', 'Dimorphic Hemorrhoids', 'Chicken pox', 'Fungal infection', 'Common Cold']\n",
      "Symptom: uncomfortable, Diseases: ['Impetigo', 'Arthritis', 'Malaria', 'peptic ulcer disease', 'Pneumonia', 'Typhoid', 'Psoriasis', 'Dengue', 'allergy', 'Dimorphic Hemorrhoids', 'Chicken pox', 'Fungal infection', 'Common Cold']\n",
      "Symptom: noticeable, Diseases: ['Varicose Veins', 'Psoriasis']\n",
      "Symptom: inflammation, Diseases: ['allergy', 'Psoriasis']\n",
      "Symptom: sensitive, Diseases: ['Acne', 'Dimorphic Hemorrhoids', 'Psoriasis']\n",
      "Symptom: reacts, Diseases: ['Psoriasis']\n",
      "Symptom: changes, Diseases: ['peptic ulcer disease', 'urinary tract infection', 'Psoriasis', 'drug reaction', 'diabetes']\n",
      "Symptom: humidity, Diseases: ['Psoriasis']\n",
      "Symptom: careful, Diseases: ['Psoriasis']\n"
     ]
    }
   ],
   "source": [
    "for symptom, diseases in list(symptom_disease_map.items())[:50]:\n",
    "    print(f\"Symptom: {symptom}, Diseases: {diseases}\")"
   ]
  },
  {
   "cell_type": "code",
   "execution_count": 54,
   "metadata": {},
   "outputs": [],
   "source": [
    "def diagnose(symptoms):\n",
    "    symptoms = [symptom.strip().lower() for symptom in symptoms.split(\",\")]\n",
    "    \n",
    "    possible_diagnoses = defaultdict(float)\n",
    "    \n",
    "    for symptom in symptoms:\n",
    "        if symptom in symptom_disease_map:\n",
    "            diseases = symptom_disease_map[symptom]\n",
    "            for disease in diseases:\n",
    "                possible_diagnoses[disease] += 1\n",
    "    \n",
    "    if possible_diagnoses:\n",
    "        sorted_diagnoses = sorted(possible_diagnoses.items(), key=lambda x: x[1], reverse=True)\n",
    "        print(\"Possible diagnoses:\")\n",
    "        for diagnosis, count in sorted_diagnoses:\n",
    "            print(f\"{diagnosis} (Matching Symptoms: {count})\")\n",
    "    else:\n",
    "        print(\"No matching diagnosis found.\")"
   ]
  },
  {
   "cell_type": "code",
   "execution_count": 56,
   "metadata": {},
   "outputs": [
    {
     "name": "stdout",
     "output_type": "stream",
     "text": [
      "Possible diagnoses:\n",
      "Impetigo (Matching Symptoms: 2.0)\n",
      "Psoriasis (Matching Symptoms: 2.0)\n",
      "Dengue (Matching Symptoms: 2.0)\n",
      "Varicose Veins (Matching Symptoms: 2.0)\n",
      "allergy (Matching Symptoms: 2.0)\n",
      "Chicken pox (Matching Symptoms: 2.0)\n",
      "Fungal infection (Matching Symptoms: 2.0)\n",
      "Common Cold (Matching Symptoms: 2.0)\n",
      "Jaundice (Matching Symptoms: 1.0)\n",
      "Acne (Matching Symptoms: 1.0)\n",
      "Dimorphic Hemorrhoids (Matching Symptoms: 1.0)\n",
      "drug reaction (Matching Symptoms: 1.0)\n",
      "urinary tract infection (Matching Symptoms: 1.0)\n",
      "Pneumonia (Matching Symptoms: 1.0)\n"
     ]
    }
   ],
   "source": [
    "userInput = input('Please input your symptoms!')\n",
    "diagnose(userInput)"
   ]
  }
 ],
 "metadata": {
  "kernelspec": {
   "display_name": "Python 3 (ipykernel)",
   "language": "python",
   "name": "python3"
  },
  "language_info": {
   "codemirror_mode": {
    "name": "ipython",
    "version": 3
   },
   "file_extension": ".py",
   "mimetype": "text/x-python",
   "name": "python",
   "nbconvert_exporter": "python",
   "pygments_lexer": "ipython3",
   "version": "3.11.7"
  }
 },
 "nbformat": 4,
 "nbformat_minor": 2
}
