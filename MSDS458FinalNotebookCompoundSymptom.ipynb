{
 "cells": [
  {
   "cell_type": "code",
   "execution_count": 17,
   "metadata": {},
   "outputs": [],
   "source": [
    "import nltk\n",
    "from nltk.corpus import stopwords\n",
    "from nltk.tokenize import word_tokenize\n",
    "from collections import defaultdict\n",
    "import pandas as pd\n",
    "import re\n",
    "import itertools"
   ]
  },
  {
   "cell_type": "code",
   "execution_count": 18,
   "metadata": {},
   "outputs": [
    {
     "name": "stderr",
     "output_type": "stream",
     "text": [
      "[nltk_data] Downloading package punkt to\n",
      "[nltk_data]     C:\\Users\\akhil\\AppData\\Roaming\\nltk_data...\n",
      "[nltk_data]   Package punkt is already up-to-date!\n",
      "[nltk_data] Downloading package stopwords to\n",
      "[nltk_data]     C:\\Users\\akhil\\AppData\\Roaming\\nltk_data...\n",
      "[nltk_data]   Package stopwords is already up-to-date!\n",
      "[nltk_data] Downloading package averaged_perceptron_tagger to\n",
      "[nltk_data]     C:\\Users\\akhil\\AppData\\Roaming\\nltk_data...\n",
      "[nltk_data]   Package averaged_perceptron_tagger is already up-to-\n",
      "[nltk_data]       date!\n"
     ]
    },
    {
     "data": {
      "text/plain": [
       "True"
      ]
     },
     "execution_count": 18,
     "metadata": {},
     "output_type": "execute_result"
    }
   ],
   "source": [
    "nltk.download('punkt')\n",
    "nltk.download('stopwords')\n",
    "nltk.download('averaged_perceptron_tagger')"
   ]
  },
  {
   "cell_type": "code",
   "execution_count": 19,
   "metadata": {},
   "outputs": [],
   "source": [
    "data = 'C:/Users/akhil/OneDrive/Documents/School/Summer 2024/MSDS 458/Final Project/Symptom2Disease.csv'\n",
    "df = pd.read_csv(data)"
   ]
  },
  {
   "cell_type": "code",
   "execution_count": 20,
   "metadata": {},
   "outputs": [],
   "source": [
    "stop_words = set(stopwords.words('english'))"
   ]
  },
  {
   "cell_type": "code",
   "execution_count": 21,
   "metadata": {},
   "outputs": [],
   "source": [
    "def extract_symptoms_pos(text):\n",
    "    text = text.lower()\n",
    "    text = re.sub(r'[^a-zA-Z\\s]', '', text)\n",
    "    words = word_tokenize(text)\n",
    "    filtered_words = [word for word in words if word not in stop_words]\n",
    "    pos_tags = nltk.pos_tag(filtered_words)\n",
    "    symptoms = [word for word, pos in pos_tags if pos in ('NN', 'NNS', 'JJ', 'JJR', 'JJS')]\n",
    "    return symptoms"
   ]
  },
  {
   "cell_type": "code",
   "execution_count": 22,
   "metadata": {},
   "outputs": [],
   "source": [
    "grouped_symptoms = df.groupby('label')['text'].apply(list).to_dict()\n",
    "compound_symptom_disease_map = {}\n",
    "\n",
    "for disease, symptoms_list in grouped_symptoms.items():\n",
    "    all_symptoms = []\n",
    "    for description in symptoms_list:\n",
    "        symptoms = extract_symptoms_pos(description)\n",
    "        all_symptoms.extend(symptoms)\n",
    "    \n",
    "    unique_symptoms = set(all_symptoms)\n",
    "    compound_symptom_disease_map[tuple(unique_symptoms)] = disease"
   ]
  },
  {
   "cell_type": "code",
   "execution_count": 23,
   "metadata": {},
   "outputs": [],
   "source": [
    "symptom_disease_map = defaultdict(set)"
   ]
  },
  {
   "cell_type": "code",
   "execution_count": 24,
   "metadata": {},
   "outputs": [],
   "source": [
    "for index, row in df.iterrows():\n",
    "    symptoms = extract_symptoms_pos(row['text'])\n",
    "    for symptom in symptoms:\n",
    "        symptom_disease_map[symptom].add(row['label'])"
   ]
  },
  {
   "cell_type": "code",
   "execution_count": 25,
   "metadata": {},
   "outputs": [],
   "source": [
    "symptom_disease_map = {k: list(v) for k, v in symptom_disease_map.items()}"
   ]
  },
  {
   "cell_type": "code",
   "execution_count": 26,
   "metadata": {},
   "outputs": [],
   "source": [
    "def forward_chaining(extracted_symptoms):\n",
    "    possible_diagnoses = defaultdict(float)\n",
    "    symptom_combinations = []\n",
    "\n",
    "    for r in range(1, len(extracted_symptoms) + 1):\n",
    "        combinations = list(itertools.combinations(extracted_symptoms, r))\n",
    "        symptom_combinations.extend(combinations)\n",
    "\n",
    "    for combination in symptom_combinations:\n",
    "        combination_tuple = tuple(combination)\n",
    "        if combination_tuple in compound_symptom_disease_map:\n",
    "            disease = compound_symptom_disease_map[combination_tuple]\n",
    "            possible_diagnoses[disease] += len(combination) \n",
    "    \n",
    "    total_symptoms = len(extracted_symptoms)\n",
    "    diagnosis_confidence = {disease: (count / total_symptoms) for disease, count in possible_diagnoses.items()}\n",
    "    return diagnosis_confidence"
   ]
  },
  {
   "cell_type": "code",
   "execution_count": 27,
   "metadata": {},
   "outputs": [],
   "source": [
    "def backward_chaining(goal_disease, extracted_symptoms):\n",
    "    relevant_symptoms = set()\n",
    "\n",
    "    for symptom in extracted_symptoms:\n",
    "        if symptom in symptom_disease_map and goal_disease in symptom_disease_map[symptom]:\n",
    "            relevant_symptoms.add(symptom)\n",
    "    \n",
    "    confidence = len(relevant_symptoms) / len(extracted_symptoms)\n",
    "    return confidence if relevant_symptoms else 0.0"
   ]
  },
  {
   "cell_type": "code",
   "execution_count": 28,
   "metadata": {},
   "outputs": [],
   "source": [
    "def diagnose(sentence, method=\"forward\", goal_disease=None):\n",
    "    extracted_symptoms = extract_symptoms_pos(sentence)\n",
    "    print(f\"Extracted Symptoms: {extracted_symptoms}\")\n",
    "    \n",
    "    if method == \"forward\":\n",
    "        diagnosis_confidence = forward_chaining(extracted_symptoms)\n",
    "    elif method == \"backward\":\n",
    "        if not goal_disease:\n",
    "            goal_disease = input(\"Enter the disease you want to verify (goal): \")\n",
    "        confidence = backward_chaining(goal_disease, extracted_symptoms)\n",
    "        diagnosis_confidence = {goal_disease: confidence}\n",
    "    else:\n",
    "        print(\"Invalid method. Choose 'forward' or 'backward'.\")\n",
    "        return\n",
    "    \n",
    "    if diagnosis_confidence:\n",
    "        sorted_diagnoses = sorted(diagnosis_confidence.items(), key=lambda x: x[1], reverse=True)\n",
    "        print(\"\\nPossible diagnoses with confidence levels:\")\n",
    "        for diagnosis, confidence in sorted_diagnoses:\n",
    "            print(f\"{diagnosis}: {confidence:.2f} confidence\")\n",
    "    else:\n",
    "        print(\"No matching diagnosis found.\")"
   ]
  },
  {
   "cell_type": "code",
   "execution_count": 31,
   "metadata": {},
   "outputs": [
    {
     "name": "stdout",
     "output_type": "stream",
     "text": [
      "Extracted Symptoms: ['itchy', 'scalp', 'red', 'skin']\n",
      "No matching diagnosis found.\n"
     ]
    }
   ],
   "source": [
    "user_input = input('Please input your symptoms: ')\n",
    "diagnose(user_input)"
   ]
  },
  {
   "cell_type": "code",
   "execution_count": 30,
   "metadata": {},
   "outputs": [
    {
     "name": "stdout",
     "output_type": "stream",
     "text": [
      "Extracted Symptoms: ['massive', 'headache']\n",
      "\n",
      "Possible diagnoses with confidence levels:\n",
      "diabetes: 0.00 confidence\n"
     ]
    }
   ],
   "source": [
    "diagnose(user_input, method=\"backward\")"
   ]
  }
 ],
 "metadata": {
  "kernelspec": {
   "display_name": "Python 3 (ipykernel)",
   "language": "python",
   "name": "python3"
  },
  "language_info": {
   "codemirror_mode": {
    "name": "ipython",
    "version": 3
   },
   "file_extension": ".py",
   "mimetype": "text/x-python",
   "name": "python",
   "nbconvert_exporter": "python",
   "pygments_lexer": "ipython3",
   "version": "3.11.7"
  }
 },
 "nbformat": 4,
 "nbformat_minor": 2
}
